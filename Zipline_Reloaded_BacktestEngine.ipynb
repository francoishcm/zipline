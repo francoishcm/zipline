{
  "nbformat": 4,
  "nbformat_minor": 0,
  "metadata": {
    "colab": {
      "name": "Zipline_Reloaded_BacktestEngine.ipynb",
      "provenance": [],
      "collapsed_sections": [],
      "toc_visible": true,
      "mount_file_id": "https://github.com/francoishcm/BackTesting/blob/master/Zipline_Reloaded_BacktestEngine.ipynb",
      "authorship_tag": "ABX9TyO4SeVJlplY33o9V4k38fkB",
      "include_colab_link": true
    },
    "kernelspec": {
      "display_name": "Python 3",
      "name": "python3"
    },
    "language_info": {
      "name": "python"
    }
  },
  "cells": [
    {
      "cell_type": "markdown",
      "metadata": {
        "id": "view-in-github",
        "colab_type": "text"
      },
      "source": [
        "<a href=\"https://colab.research.google.com/github/francoishcm/zipline/blob/master/Zipline_Reloaded_BacktestEngine.ipynb\" target=\"_parent\"><img src=\"https://colab.research.google.com/assets/colab-badge.svg\" alt=\"Open In Colab\"/></a>"
      ]
    },
    {
      "cell_type": "code",
      "metadata": {
        "id": "1tlwk44QhErd"
      },
      "source": [
        "%%bash\n",
        "wget http://prdownloads.sourceforge.net/ta-lib/ta-lib-0.4.0-src.tar.gz\n",
        "tar -xzf ta-lib-0.4.0-src.tar.gz\n",
        "cd ta-lib/\n",
        "./configure\n",
        "make\n",
        "make install"
      ],
      "execution_count": null,
      "outputs": []
    },
    {
      "cell_type": "code",
      "source": [
        "!pip install sqlite3"
      ],
      "metadata": {
        "id": "unyzW3nNLFd_"
      },
      "execution_count": null,
      "outputs": []
    },
    {
      "cell_type": "markdown",
      "source": [
        ""
      ],
      "metadata": {
        "id": "vIOyEBLjUzUq"
      }
    },
    {
      "cell_type": "code",
      "metadata": {
        "id": "Ht09tXqeiUZ3"
      },
      "source": [
        "import zipline\n",
        "zipline.__version__"
      ],
      "execution_count": null,
      "outputs": []
    },
    {
      "cell_type": "code",
      "metadata": {
        "id": "8rMbm553u5NF"
      },
      "source": [
        "!zipline bundles"
      ],
      "execution_count": null,
      "outputs": []
    },
    {
      "cell_type": "code",
      "source": [
        "from google.colab import drive #Google Drive\n",
        "\n",
        "#Data Processing\n",
        "import numpy as np \n",
        "import pandas as pd\n",
        "from numpy import sort\n",
        "\n",
        "#Data Connection\n",
        "import sqlite3\n",
        "import sqlalchemy as db\n"
      ],
      "metadata": {
        "id": "pDt8ig62I2v2"
      },
      "execution_count": null,
      "outputs": []
    },
    {
      "cell_type": "code",
      "source": [
        "from google.colab import drive\n",
        "drive.mount('/content/drive')"
      ],
      "metadata": {
        "id": "46O_CKhqKVdo"
      },
      "execution_count": null,
      "outputs": []
    },
    {
      "cell_type": "code",
      "source": [
        "!pip3 install quandl\n",
        "import quandl\n",
        "quandl.ApiConfig.api_key = \"WDDHaLh3eG6vrEgiCCqy\"\n",
        "!QUANDL_API_KEY= zipline ingest -b quandl"
      ],
      "metadata": {
        "id": "eWhJDo66RwL4"
      },
      "execution_count": null,
      "outputs": []
    },
    {
      "cell_type": "code",
      "source": [
        "data = quandl.get(\"WIKI/AAPL\")"
      ],
      "metadata": {
        "id": "Sf-Iere0KGyn"
      },
      "execution_count": null,
      "outputs": []
    },
    {
      "cell_type": "code",
      "source": [
        "%matplotlib inline\n",
        "\n",
        "from zipline import run_algorithm\n",
        "from zipline.api import order_target_percent, symbol\n",
        "\n",
        "from datetime import datetime\n",
        "\n",
        "import pytz\n",
        "import matplotlib.pyplot as plt\n",
        "\n",
        "def intitialize (context):\n",
        "    context.stock = symbol ('AAPL')\n",
        "    context.index_average_window = 100\n",
        "\n",
        "def handle_data(context, data):\n",
        "    # Request history for the stock\n",
        "    equities_hist = data.history(context.stock, \"close\", \n",
        "                                 context.index_average_window, \"1d\")\n",
        "\n",
        "    if equities_hist[-1] > equities_hist.mean():\n",
        "        stock_weight = 1.0\n",
        "    else:\n",
        "        stock_weight = 0.0\n",
        "\n",
        "    order_target_percent(context.stock,stock_weight)\n",
        "\n",
        "def analyze (context,perf):\n",
        "    fig = plt.figure(figsize=(12,8))\n",
        "\n",
        "    ax = fig.add_subplot(311)\n",
        "    ax.set_title('Helmie Capital Results')\n",
        "    ax.semilogy(perf['portfolio_value'],linestyle='-',label='Equity Curve', linewidth=3.0)\n",
        "    ax.legend()\n",
        "    ax.grid(False)\n",
        "\n",
        "    ax = fig.add_subplot(312)\n",
        "    ax.plot(perf['gross_leverage'],label='Exposure',linestyle='-',linewidth=1.0)\n",
        "    ax.legend()\n",
        "    ax.grid(True)\n",
        "\n",
        "    ax = fig.add_subplot(313)\n",
        "    ax.plot(perf['returns'],label='Returns',linestyle='-',linewidth=1.0)\n",
        "    ax.legend()\n",
        "    ax.grid(True)\n",
        "\n",
        "start_date = datetime(1996,1,1, tzinfo=pytz.UTC)\n",
        "end_date = datetime(2000,12,31, tzinfo=pytz.UTC)\n",
        "\n",
        "results =run_algorithm(\n",
        "    start=start_date,\n",
        "    end=end_date,\n",
        "    initialize=intitialize,\n",
        "    analyze=analyze,\n",
        "    handle_data=handle_data,\n",
        "    capital_base=10000,\n",
        "    data_frequency = 'daily', bundle='quandl'\n",
        ")"
      ],
      "metadata": {
        "id": "MHejG5b2Tt7P"
      },
      "execution_count": null,
      "outputs": []
    },
    {
      "cell_type": "markdown",
      "source": [
        "# New Section"
      ],
      "metadata": {
        "id": "YADFq7zhk46v"
      }
    }
  ]
}